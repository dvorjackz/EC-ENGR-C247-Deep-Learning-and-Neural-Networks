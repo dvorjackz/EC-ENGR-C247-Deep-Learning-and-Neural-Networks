{
 "cells": [
  {
   "cell_type": "markdown",
   "metadata": {},
   "source": [
    "# Convolutional neural networks\n",
    "\n",
    "In this notebook, we'll put together our convolutional layers to implement a 3-layer CNN.  Then, we'll ask you to implement a CNN that can achieve > 65% validation error on CIFAR-10.\n",
    "\n",
    "CS231n has built a solid API for building these modular frameworks and training them, and we will use their very well implemented framework as opposed to \"reinventing the wheel.\"  This includes using their Solver, various utility functions, their layer structure, and their implementation of fast CNN layers.  This also includes nndl.fc_net, nndl.layers, and nndl.layer_utils.  As in prior assignments, we thank Serena Yeung & Justin Johnson for permission to use code written for the CS 231n class (cs231n.stanford.edu).  \n",
    "\n",
    "\n",
    "If you have not completed the Spatial BatchNorm Notebook, please see the following description from that notebook:\n",
    "\n",
    "Please copy and paste your prior implemented code from HW #4 to start this assignment.  If you did not correctly implement the layers in HW #4, you may collaborate with a classmate to use their layer implementations from HW #4.  You may also visit TA or Prof OH to correct your implementation.  \n",
    "\n",
    "You'll want to copy and paste from HW #4:\n",
    "    - layers.py for your FC network layers, as well as batchnorm and dropout.\n",
    "    - layer_utils.py for your combined FC network layers.\n",
    "    - optim.py for your optimizers.\n",
    "\n",
    "Be sure to place these in the `nndl/` directory so they're imported correctly.  Note, as announced in class, we will not be releasing our solutions."
   ]
  },
  {
   "cell_type": "code",
   "execution_count": 14,
   "metadata": {},
   "outputs": [
    {
     "name": "stdout",
     "output_type": "stream",
     "text": [
      "The autoreload extension is already loaded. To reload it, use:\n",
      "  %reload_ext autoreload\n"
     ]
    }
   ],
   "source": [
    "# As usual, a bit of setup\n",
    "\n",
    "import numpy as np\n",
    "import matplotlib.pyplot as plt\n",
    "from nndl.cnn import *\n",
    "from cs231n.data_utils import get_CIFAR10_data\n",
    "from cs231n.gradient_check import eval_numerical_gradient_array, eval_numerical_gradient\n",
    "from nndl.layers import *\n",
    "from nndl.conv_layers import *\n",
    "from cs231n.fast_layers import *\n",
    "from cs231n.solver import Solver\n",
    "\n",
    "%matplotlib inline\n",
    "plt.rcParams['figure.figsize'] = (10.0, 8.0) # set default size of plots\n",
    "plt.rcParams['image.interpolation'] = 'nearest'\n",
    "plt.rcParams['image.cmap'] = 'gray'\n",
    "\n",
    "# for auto-reloading external modules\n",
    "# see http://stackoverflow.com/questions/1907993/autoreload-of-modules-in-ipython\n",
    "%load_ext autoreload\n",
    "%autoreload 2\n",
    "\n",
    "def rel_error(x, y):\n",
    "  \"\"\" returns relative error \"\"\"\n",
    "  return np.max(np.abs(x - y) / (np.maximum(1e-8, np.abs(x) + np.abs(y))))"
   ]
  },
  {
   "cell_type": "code",
   "execution_count": 15,
   "metadata": {},
   "outputs": [
    {
     "name": "stdout",
     "output_type": "stream",
     "text": [
      "X_train: (49000, 3, 32, 32) \n",
      "y_train: (49000,) \n",
      "X_val: (1000, 3, 32, 32) \n",
      "y_val: (1000,) \n",
      "X_test: (1000, 3, 32, 32) \n",
      "y_test: (1000,) \n"
     ]
    }
   ],
   "source": [
    "# Load the (preprocessed) CIFAR10 data.\n",
    "\n",
    "data = get_CIFAR10_data()\n",
    "for k in data.keys():\n",
    "  print('{}: {} '.format(k, data[k].shape))"
   ]
  },
  {
   "cell_type": "markdown",
   "metadata": {},
   "source": [
    "## Three layer CNN\n",
    "\n",
    "In this notebook, you will implement a three layer CNN.  The `ThreeLayerConvNet` class is in `nndl/cnn.py`.  You'll need to modify that code for this section, including the initialization, as well as the calculation of the loss and gradients.  You should be able to use the building blocks you have either earlier coded or that we have provided.  Be sure to use the fast layers.\n",
    "\n",
    "The architecture of this CNN will be:\n",
    "\n",
    "conv - relu - 2x2 max pool - affine - relu - affine - softmax\n",
    "\n",
    "We won't use batchnorm yet.  You've also done enough of these to know how to debug; use the cells below.\n",
    "\n",
    "Note: As we are implementing several layers CNN networks. The gradient error can be expected for the `eval_numerical_gradient()` function. If your `W1 max relative error` and `W2 max relative error` are around or below 0.01, they should be acceptable. Other errors should be less than 1e-5. "
   ]
  },
  {
   "cell_type": "code",
   "execution_count": 40,
   "metadata": {},
   "outputs": [
    {
     "name": "stdout",
     "output_type": "stream",
     "text": [
      "W1 max relative error: 0.00030248109387705127\n",
      "W2 max relative error: 0.0027583677513153887\n",
      "W3 max relative error: 5.8482760346196364e-05\n",
      "b1 max relative error: 1.5460761129401907e-05\n",
      "b2 max relative error: 3.9361785518893287e-07\n",
      "b3 max relative error: 1.0454244302204221e-09\n"
     ]
    }
   ],
   "source": [
    "num_inputs = 2\n",
    "input_dim = (3, 16, 16)\n",
    "reg = 0.0\n",
    "num_classes = 10\n",
    "X = np.random.randn(num_inputs, *input_dim)\n",
    "y = np.random.randint(num_classes, size=num_inputs)\n",
    "\n",
    "model = ThreeLayerConvNet(num_filters=3, filter_size=3,\n",
    "                          input_dim=input_dim, hidden_dim=7,\n",
    "                          dtype=np.float64)\n",
    "loss, grads = model.loss(X, y)\n",
    "for param_name in sorted(grads):\n",
    "    f = lambda _: model.loss(X, y)[0]\n",
    "    param_grad_num = eval_numerical_gradient(f, model.params[param_name], verbose=False, h=1e-6)\n",
    "    e = rel_error(param_grad_num, grads[param_name])\n",
    "    print('{} max relative error: {}'.format(param_name, rel_error(param_grad_num, grads[param_name])))"
   ]
  },
  {
   "cell_type": "markdown",
   "metadata": {},
   "source": [
    "### Overfit small dataset\n",
    "\n",
    "To check your CNN implementation, let's overfit a small dataset."
   ]
  },
  {
   "cell_type": "code",
   "execution_count": 33,
   "metadata": {},
   "outputs": [
    {
     "name": "stdout",
     "output_type": "stream",
     "text": [
      "(Iteration 1 / 20) loss: 2.315616\n",
      "(Epoch 0 / 10) train acc: 0.270000; val_acc: 0.176000\n",
      "(Iteration 2 / 20) loss: 3.098809\n",
      "(Epoch 1 / 10) train acc: 0.190000; val_acc: 0.078000\n",
      "(Iteration 3 / 20) loss: 2.981527\n",
      "(Iteration 4 / 20) loss: 2.020423\n",
      "(Epoch 2 / 10) train acc: 0.330000; val_acc: 0.125000\n",
      "(Iteration 5 / 20) loss: 1.809810\n",
      "(Iteration 6 / 20) loss: 2.019159\n",
      "(Epoch 3 / 10) train acc: 0.470000; val_acc: 0.168000\n",
      "(Iteration 7 / 20) loss: 1.898138\n",
      "(Iteration 8 / 20) loss: 1.655982\n",
      "(Epoch 4 / 10) train acc: 0.620000; val_acc: 0.207000\n",
      "(Iteration 9 / 20) loss: 1.347849\n",
      "(Iteration 10 / 20) loss: 1.307547\n",
      "(Epoch 5 / 10) train acc: 0.710000; val_acc: 0.205000\n",
      "(Iteration 11 / 20) loss: 1.071353\n",
      "(Iteration 12 / 20) loss: 0.919177\n",
      "(Epoch 6 / 10) train acc: 0.760000; val_acc: 0.201000\n",
      "(Iteration 13 / 20) loss: 0.917780\n",
      "(Iteration 14 / 20) loss: 0.716143\n",
      "(Epoch 7 / 10) train acc: 0.790000; val_acc: 0.214000\n",
      "(Iteration 15 / 20) loss: 0.891181\n",
      "(Iteration 16 / 20) loss: 0.484528\n",
      "(Epoch 8 / 10) train acc: 0.830000; val_acc: 0.222000\n",
      "(Iteration 17 / 20) loss: 0.606501\n",
      "(Iteration 18 / 20) loss: 0.347264\n",
      "(Epoch 9 / 10) train acc: 0.930000; val_acc: 0.249000\n",
      "(Iteration 19 / 20) loss: 0.258791\n",
      "(Iteration 20 / 20) loss: 0.253796\n",
      "(Epoch 10 / 10) train acc: 0.920000; val_acc: 0.243000\n"
     ]
    }
   ],
   "source": [
    "num_train = 100\n",
    "small_data = {\n",
    "  'X_train': data['X_train'][:num_train],\n",
    "  'y_train': data['y_train'][:num_train],\n",
    "  'X_val': data['X_val'],\n",
    "  'y_val': data['y_val'],\n",
    "}\n",
    "\n",
    "model = ThreeLayerConvNet(weight_scale=1e-2)\n",
    "\n",
    "solver = Solver(model, small_data,\n",
    "                num_epochs=10, batch_size=50,\n",
    "                update_rule='adam',\n",
    "                optim_config={\n",
    "                  'learning_rate': 1e-3,\n",
    "                },\n",
    "                verbose=True, print_every=1)\n",
    "solver.train()"
   ]
  },
  {
   "cell_type": "code",
   "execution_count": 34,
   "metadata": {},
   "outputs": [
    {
     "data": {
      "image/png": "[encoded data removed]",
      "text/plain": [
       "<matplotlib.figure.Figure at 0x10da8dcf8>"
      ]
     },
     "metadata": {},
     "output_type": "display_data"
    }
   ],
   "source": [
    "plt.subplot(2, 1, 1)\n",
    "plt.plot(solver.loss_history, 'o')\n",
    "plt.xlabel('iteration')\n",
    "plt.ylabel('loss')\n",
    "\n",
    "plt.subplot(2, 1, 2)\n",
    "plt.plot(solver.train_acc_history, '-o')\n",
    "plt.plot(solver.val_acc_history, '-o')\n",
    "plt.legend(['train', 'val'], loc='upper left')\n",
    "plt.xlabel('epoch')\n",
    "plt.ylabel('accuracy')\n",
    "plt.show()"
   ]
  },
  {
   "cell_type": "markdown",
   "metadata": {},
   "source": [
    "## Train the network\n",
    "\n",
    "Now we train the 3 layer CNN on CIFAR-10 and assess its accuracy."
   ]
  },
  {
   "cell_type": "code",
   "execution_count": 35,
   "metadata": {
    "scrolled": false
   },
   "outputs": [
    {
     "name": "stdout",
     "output_type": "stream",
     "text": [
      "(Iteration 1 / 980) loss: 2.304795\n",
      "(Epoch 0 / 1) train acc: 0.097000; val_acc: 0.119000\n",
      "(Iteration 21 / 980) loss: 2.108474\n",
      "(Iteration 41 / 980) loss: 1.699203\n",
      "(Iteration 61 / 980) loss: 1.748868\n",
      "(Iteration 81 / 980) loss: 1.617362\n",
      "(Iteration 101 / 980) loss: 2.079706\n",
      "(Iteration 121 / 980) loss: 1.497607\n",
      "(Iteration 141 / 980) loss: 1.826750\n",
      "(Iteration 161 / 980) loss: 2.141741\n",
      "(Iteration 181 / 980) loss: 1.882131\n",
      "(Iteration 201 / 980) loss: 1.991266\n",
      "(Iteration 221 / 980) loss: 1.667279\n",
      "(Iteration 241 / 980) loss: 1.549250\n",
      "(Iteration 261 / 980) loss: 1.755482\n",
      "(Iteration 281 / 980) loss: 1.586607\n",
      "(Iteration 301 / 980) loss: 1.235908\n",
      "(Iteration 321 / 980) loss: 1.873307\n",
      "(Iteration 341 / 980) loss: 1.878106\n",
      "(Iteration 361 / 980) loss: 1.570670\n",
      "(Iteration 381 / 980) loss: 1.969980\n",
      "(Iteration 401 / 980) loss: 1.601958\n",
      "(Iteration 421 / 980) loss: 1.607514\n",
      "(Iteration 441 / 980) loss: 1.916853\n",
      "(Iteration 461 / 980) loss: 1.843414\n",
      "(Iteration 481 / 980) loss: 1.688600\n",
      "(Iteration 501 / 980) loss: 1.533797\n",
      "(Iteration 521 / 980) loss: 1.565566\n",
      "(Iteration 541 / 980) loss: 1.648820\n",
      "(Iteration 561 / 980) loss: 1.347325\n",
      "(Iteration 581 / 980) loss: 1.796001\n",
      "(Iteration 601 / 980) loss: 1.601116\n",
      "(Iteration 621 / 980) loss: 1.906355\n",
      "(Iteration 641 / 980) loss: 1.398132\n",
      "(Iteration 661 / 980) loss: 1.730645\n",
      "(Iteration 681 / 980) loss: 1.624738\n",
      "(Iteration 701 / 980) loss: 1.296591\n",
      "(Iteration 721 / 980) loss: 1.644106\n",
      "(Iteration 741 / 980) loss: 1.596834\n",
      "(Iteration 761 / 980) loss: 1.588982\n",
      "(Iteration 781 / 980) loss: 1.433749\n",
      "(Iteration 801 / 980) loss: 1.925017\n",
      "(Iteration 821 / 980) loss: 1.767805\n",
      "(Iteration 841 / 980) loss: 1.556007\n",
      "(Iteration 861 / 980) loss: 1.475954\n",
      "(Iteration 881 / 980) loss: 1.558819\n",
      "(Iteration 901 / 980) loss: 1.493340\n",
      "(Iteration 921 / 980) loss: 1.783761\n",
      "(Iteration 941 / 980) loss: 1.554866\n",
      "(Iteration 961 / 980) loss: 1.604871\n",
      "(Epoch 1 / 1) train acc: 0.433000; val_acc: 0.457000\n"
     ]
    }
   ],
   "source": [
    "model = ThreeLayerConvNet(weight_scale=0.001, hidden_dim=500, reg=0.001)\n",
    "\n",
    "solver = Solver(model, data,\n",
    "                num_epochs=1, batch_size=50,\n",
    "                update_rule='adam',\n",
    "                optim_config={\n",
    "                  'learning_rate': 1e-3,\n",
    "                },\n",
    "                verbose=True, print_every=20)\n",
    "solver.train()"
   ]
  },
  {
   "cell_type": "markdown",
   "metadata": {},
   "source": [
    "# Get > 65% validation accuracy on CIFAR-10.\n",
    "\n",
    "In the last part of the assignment, we'll now ask you to train a CNN to get better than 65% validation accuracy on CIFAR-10.\n",
    "\n",
    "### Things you should try:\n",
    "- Filter size: Above we used 7x7; but VGGNet and onwards showed stacks of 3x3 filters are good.  \n",
    "- Number of filters: Above we used 32 filters. Do more or fewer do better?\n",
    "- Batch normalization: Try adding spatial batch normalization after convolution layers and vanilla batch normalization after affine layers. Do your networks train faster?\n",
    "- Network architecture: Can a deeper CNN do better?  Consider these architectures:\n",
    "    - [conv-relu-pool]xN - conv - relu - [affine]xM - [softmax or SVM]\n",
    "    - [conv-relu-pool]XN - [affine]XM - [softmax or SVM]\n",
    "    - [conv-relu-conv-relu-pool]xN - [affine]xM - [softmax or SVM]\n",
    "\n",
    "### Tips for training\n",
    "For each network architecture that you try, you should tune the learning rate and regularization strength. When doing this there are a couple of important things to keep in mind:\n",
    "\n",
    "- If the parameters are working well, you should see improvement within a few hundred iterations\n",
    "- Remember the coarse-to-fine approach for hyperparameter tuning: start by testing a large range of hyperparameters for just a few training iterations to find the combinations of parameters that are working at all.\n",
    "- Once you have found some sets of parameters that seem to work, search more finely around these parameters. You may need to train for more epochs."
   ]
  },
  {
   "cell_type": "code",
   "execution_count": 42,
   "metadata": {
    "scrolled": false
   },
   "outputs": [
    {
     "name": "stdout",
     "output_type": "stream",
     "text": [
      "(Iteration 1 / 4900) loss: 2.304510\n",
      "(Epoch 0 / 10) train acc: 0.116000; val_acc: 0.122000\n",
      "(Iteration 51 / 4900) loss: 1.770843\n",
      "(Iteration 101 / 4900) loss: 1.831444\n",
      "(Iteration 151 / 4900) loss: 1.723793\n",
      "(Iteration 201 / 4900) loss: 1.553610\n",
      "(Iteration 251 / 4900) loss: 1.393221\n",
      "(Iteration 301 / 4900) loss: 1.565930\n",
      "(Iteration 351 / 4900) loss: 1.698151\n",
      "(Iteration 401 / 4900) loss: 1.492429\n",
      "(Iteration 451 / 4900) loss: 1.508485\n",
      "(Epoch 1 / 10) train acc: 0.489000; val_acc: 0.492000\n",
      "(Iteration 501 / 4900) loss: 1.556234\n",
      "(Iteration 551 / 4900) loss: 1.306318\n",
      "(Iteration 601 / 4900) loss: 1.353494\n",
      "(Iteration 651 / 4900) loss: 1.351386\n",
      "(Iteration 701 / 4900) loss: 1.308536\n",
      "(Iteration 751 / 4900) loss: 1.467527\n",
      "(Iteration 801 / 4900) loss: 1.188758\n",
      "(Iteration 851 / 4900) loss: 1.412666\n",
      "(Iteration 901 / 4900) loss: 1.445009\n",
      "(Iteration 951 / 4900) loss: 1.344242\n",
      "(Epoch 2 / 10) train acc: 0.563000; val_acc: 0.550000\n",
      "(Iteration 1001 / 4900) loss: 1.275696\n",
      "(Iteration 1051 / 4900) loss: 1.150632\n",
      "(Iteration 1101 / 4900) loss: 1.368649\n",
      "(Iteration 1151 / 4900) loss: 1.295056\n",
      "(Iteration 1201 / 4900) loss: 1.222005\n",
      "(Iteration 1251 / 4900) loss: 1.155882\n",
      "(Iteration 1301 / 4900) loss: 1.030409\n",
      "(Iteration 1351 / 4900) loss: 1.143373\n",
      "(Iteration 1401 / 4900) loss: 1.340394\n",
      "(Iteration 1451 / 4900) loss: 1.295085\n",
      "(Epoch 3 / 10) train acc: 0.571000; val_acc: 0.569000\n",
      "(Iteration 1501 / 4900) loss: 1.128084\n",
      "(Iteration 1551 / 4900) loss: 1.125984\n",
      "(Iteration 1601 / 4900) loss: 1.079257\n",
      "(Iteration 1651 / 4900) loss: 1.204651\n",
      "(Iteration 1701 / 4900) loss: 1.215688\n",
      "(Iteration 1751 / 4900) loss: 1.169037\n",
      "(Iteration 1801 / 4900) loss: 0.942539\n",
      "(Iteration 1851 / 4900) loss: 0.866118\n",
      "(Iteration 1901 / 4900) loss: 1.085536\n",
      "(Iteration 1951 / 4900) loss: 0.968670\n",
      "(Epoch 4 / 10) train acc: 0.635000; val_acc: 0.610000\n",
      "(Iteration 2001 / 4900) loss: 1.087900\n",
      "(Iteration 2051 / 4900) loss: 1.114967\n",
      "(Iteration 2101 / 4900) loss: 1.006622\n",
      "(Iteration 2151 / 4900) loss: 1.175996\n",
      "(Iteration 2201 / 4900) loss: 0.824987\n",
      "(Iteration 2251 / 4900) loss: 0.857084\n",
      "(Iteration 2301 / 4900) loss: 1.419721\n",
      "(Iteration 2351 / 4900) loss: 1.150189\n",
      "(Iteration 2401 / 4900) loss: 1.239157\n",
      "(Epoch 5 / 10) train acc: 0.648000; val_acc: 0.631000\n",
      "(Iteration 2451 / 4900) loss: 1.304620\n",
      "(Iteration 2501 / 4900) loss: 1.046581\n",
      "(Iteration 2551 / 4900) loss: 0.855849\n",
      "(Iteration 2601 / 4900) loss: 1.007044\n",
      "(Iteration 2651 / 4900) loss: 1.064739\n",
      "(Iteration 2701 / 4900) loss: 1.069459\n",
      "(Iteration 2751 / 4900) loss: 0.930649\n",
      "(Iteration 2801 / 4900) loss: 1.077328\n",
      "(Iteration 2851 / 4900) loss: 0.816714\n",
      "(Iteration 2901 / 4900) loss: 1.113363\n",
      "(Epoch 6 / 10) train acc: 0.680000; val_acc: 0.630000\n",
      "(Iteration 2951 / 4900) loss: 0.965668\n",
      "(Iteration 3001 / 4900) loss: 1.093905\n",
      "(Iteration 3051 / 4900) loss: 1.146155\n",
      "(Iteration 3101 / 4900) loss: 0.916298\n",
      "(Iteration 3151 / 4900) loss: 1.013372\n",
      "(Iteration 3201 / 4900) loss: 0.860397\n",
      "(Iteration 3251 / 4900) loss: 1.040853\n",
      "(Iteration 3301 / 4900) loss: 0.906793\n",
      "(Iteration 3351 / 4900) loss: 1.052177\n",
      "(Iteration 3401 / 4900) loss: 0.909095\n",
      "(Epoch 7 / 10) train acc: 0.721000; val_acc: 0.633000\n",
      "(Iteration 3451 / 4900) loss: 1.053566\n",
      "(Iteration 3501 / 4900) loss: 0.856925\n",
      "(Iteration 3551 / 4900) loss: 0.934538\n",
      "(Iteration 3601 / 4900) loss: 0.896635\n",
      "(Iteration 3651 / 4900) loss: 1.040976\n",
      "(Iteration 3701 / 4900) loss: 0.856940\n",
      "(Iteration 3751 / 4900) loss: 0.988786\n",
      "(Iteration 3801 / 4900) loss: 1.018906\n",
      "(Iteration 3851 / 4900) loss: 1.081226\n",
      "(Iteration 3901 / 4900) loss: 0.875528\n",
      "(Epoch 8 / 10) train acc: 0.717000; val_acc: 0.657000\n",
      "(Iteration 3951 / 4900) loss: 0.853751\n",
      "(Iteration 4001 / 4900) loss: 0.763060\n",
      "(Iteration 4051 / 4900) loss: 0.895589\n",
      "(Iteration 4101 / 4900) loss: 1.066831\n",
      "(Iteration 4151 / 4900) loss: 0.882167\n",
      "(Iteration 4201 / 4900) loss: 0.678572\n",
      "(Iteration 4251 / 4900) loss: 0.934127\n",
      "(Iteration 4301 / 4900) loss: 0.907197\n"
     ]
    },
    {
     "ename": "KeyboardInterrupt",
     "evalue": "",
     "output_type": "error",
     "traceback": [
      "\u001b[0;31m---------------------------------------------------------------------------\u001b[0m",
      "\u001b[0;31mKeyboardInterrupt\u001b[0m                         Traceback (most recent call last)",
      "\u001b[0;32m<ipython-input-42-8da3df2a5f4d>\u001b[0m in \u001b[0;36m<module>\u001b[0;34m()\u001b[0m\n\u001b[1;32m     23\u001b[0m                 verbose=True, print_every=50)\n\u001b[1;32m     24\u001b[0m \u001b[0;34m\u001b[0m\u001b[0m\n\u001b[0;32m---> 25\u001b[0;31m \u001b[0msolver\u001b[0m\u001b[0;34m.\u001b[0m\u001b[0mtrain\u001b[0m\u001b[0;34m(\u001b[0m\u001b[0;34m)\u001b[0m\u001b[0;34m\u001b[0m\u001b[0;34m\u001b[0m\u001b[0m\n\u001b[0m\u001b[1;32m     26\u001b[0m \u001b[0;34m\u001b[0m\u001b[0m\n\u001b[1;32m     27\u001b[0m \u001b[0;31m# ================================================================ #\u001b[0m\u001b[0;34m\u001b[0m\u001b[0;34m\u001b[0m\u001b[0;34m\u001b[0m\u001b[0m\n",
      "\u001b[0;32m~/GoogleDrive/UCLA/Academics/Junior/Q2/EC ENGR C247/HW5/cs231n/solver.py\u001b[0m in \u001b[0;36mtrain\u001b[0;34m(self)\u001b[0m\n\u001b[1;32m    262\u001b[0m \u001b[0;34m\u001b[0m\u001b[0m\n\u001b[1;32m    263\u001b[0m         \u001b[0;32mfor\u001b[0m \u001b[0mt\u001b[0m \u001b[0;32min\u001b[0m \u001b[0mrange\u001b[0m\u001b[0;34m(\u001b[0m\u001b[0mnum_iterations\u001b[0m\u001b[0;34m)\u001b[0m\u001b[0;34m:\u001b[0m\u001b[0;34m\u001b[0m\u001b[0;34m\u001b[0m\u001b[0m\n\u001b[0;32m--> 264\u001b[0;31m             \u001b[0mself\u001b[0m\u001b[0;34m.\u001b[0m\u001b[0m_step\u001b[0m\u001b[0;34m(\u001b[0m\u001b[0;34m)\u001b[0m\u001b[0;34m\u001b[0m\u001b[0;34m\u001b[0m\u001b[0m\n\u001b[0m\u001b[1;32m    265\u001b[0m \u001b[0;34m\u001b[0m\u001b[0m\n\u001b[1;32m    266\u001b[0m             \u001b[0;31m# Maybe print training loss\u001b[0m\u001b[0;34m\u001b[0m\u001b[0;34m\u001b[0m\u001b[0;34m\u001b[0m\u001b[0m\n",
      "\u001b[0;32m~/GoogleDrive/UCLA/Academics/Junior/Q2/EC ENGR C247/HW5/cs231n/solver.py\u001b[0m in \u001b[0;36m_step\u001b[0;34m(self)\u001b[0m\n\u001b[1;32m    185\u001b[0m             \u001b[0mdw\u001b[0m \u001b[0;34m=\u001b[0m \u001b[0mgrads\u001b[0m\u001b[0;34m[\u001b[0m\u001b[0mp\u001b[0m\u001b[0;34m]\u001b[0m\u001b[0;34m\u001b[0m\u001b[0;34m\u001b[0m\u001b[0m\n\u001b[1;32m    186\u001b[0m             \u001b[0mconfig\u001b[0m \u001b[0;34m=\u001b[0m \u001b[0mself\u001b[0m\u001b[0;34m.\u001b[0m\u001b[0moptim_configs\u001b[0m\u001b[0;34m[\u001b[0m\u001b[0mp\u001b[0m\u001b[0;34m]\u001b[0m\u001b[0;34m\u001b[0m\u001b[0;34m\u001b[0m\u001b[0m\n\u001b[0;32m--> 187\u001b[0;31m             \u001b[0mnext_w\u001b[0m\u001b[0;34m,\u001b[0m \u001b[0mnext_config\u001b[0m \u001b[0;34m=\u001b[0m \u001b[0mself\u001b[0m\u001b[0;34m.\u001b[0m\u001b[0mupdate_rule\u001b[0m\u001b[0;34m(\u001b[0m\u001b[0mw\u001b[0m\u001b[0;34m,\u001b[0m \u001b[0mdw\u001b[0m\u001b[0;34m,\u001b[0m \u001b[0mconfig\u001b[0m\u001b[0;34m)\u001b[0m\u001b[0;34m\u001b[0m\u001b[0;34m\u001b[0m\u001b[0m\n\u001b[0m\u001b[1;32m    188\u001b[0m             \u001b[0mself\u001b[0m\u001b[0;34m.\u001b[0m\u001b[0mmodel\u001b[0m\u001b[0;34m.\u001b[0m\u001b[0mparams\u001b[0m\u001b[0;34m[\u001b[0m\u001b[0mp\u001b[0m\u001b[0;34m]\u001b[0m \u001b[0;34m=\u001b[0m \u001b[0mnext_w\u001b[0m\u001b[0;34m\u001b[0m\u001b[0;34m\u001b[0m\u001b[0m\n\u001b[1;32m    189\u001b[0m             \u001b[0mself\u001b[0m\u001b[0;34m.\u001b[0m\u001b[0moptim_configs\u001b[0m\u001b[0;34m[\u001b[0m\u001b[0mp\u001b[0m\u001b[0;34m]\u001b[0m \u001b[0;34m=\u001b[0m \u001b[0mnext_config\u001b[0m\u001b[0;34m\u001b[0m\u001b[0;34m\u001b[0m\u001b[0m\n",
      "\u001b[0;32m~/GoogleDrive/UCLA/Academics/Junior/Q2/EC ENGR C247/HW5/nndl/optim.py\u001b[0m in \u001b[0;36madam\u001b[0;34m(w, dw, config)\u001b[0m\n\u001b[1;32m    197\u001b[0m     \u001b[0mconfig\u001b[0m\u001b[0;34m[\u001b[0m\u001b[0;34m'v'\u001b[0m\u001b[0;34m]\u001b[0m \u001b[0;34m=\u001b[0m \u001b[0mconfig\u001b[0m\u001b[0;34m[\u001b[0m\u001b[0;34m'beta1'\u001b[0m\u001b[0;34m]\u001b[0m \u001b[0;34m*\u001b[0m \u001b[0mconfig\u001b[0m\u001b[0;34m[\u001b[0m\u001b[0;34m'v'\u001b[0m\u001b[0;34m]\u001b[0m \u001b[0;34m+\u001b[0m \u001b[0;34m(\u001b[0m\u001b[0;36m1\u001b[0m \u001b[0;34m-\u001b[0m \u001b[0mconfig\u001b[0m\u001b[0;34m[\u001b[0m\u001b[0;34m'beta1'\u001b[0m\u001b[0;34m]\u001b[0m\u001b[0;34m)\u001b[0m \u001b[0;34m*\u001b[0m \u001b[0mdw\u001b[0m\u001b[0;34m\u001b[0m\u001b[0;34m\u001b[0m\u001b[0m\n\u001b[1;32m    198\u001b[0m     \u001b[0mconfig\u001b[0m\u001b[0;34m[\u001b[0m\u001b[0;34m'a'\u001b[0m\u001b[0;34m]\u001b[0m \u001b[0;34m=\u001b[0m \u001b[0mconfig\u001b[0m\u001b[0;34m[\u001b[0m\u001b[0;34m'beta2'\u001b[0m\u001b[0;34m]\u001b[0m \u001b[0;34m*\u001b[0m \u001b[0mconfig\u001b[0m\u001b[0;34m[\u001b[0m\u001b[0;34m'a'\u001b[0m\u001b[0;34m]\u001b[0m \u001b[0;34m+\u001b[0m \u001b[0;34m(\u001b[0m\u001b[0;36m1\u001b[0m \u001b[0;34m-\u001b[0m \u001b[0mconfig\u001b[0m\u001b[0;34m[\u001b[0m\u001b[0;34m'beta2'\u001b[0m\u001b[0;34m]\u001b[0m\u001b[0;34m)\u001b[0m \u001b[0;34m*\u001b[0m \u001b[0mdw\u001b[0m \u001b[0;34m*\u001b[0m \u001b[0mdw\u001b[0m\u001b[0;34m\u001b[0m\u001b[0;34m\u001b[0m\u001b[0m\n\u001b[0;32m--> 199\u001b[0;31m     \u001b[0mv_corrected\u001b[0m \u001b[0;34m=\u001b[0m \u001b[0mconfig\u001b[0m\u001b[0;34m[\u001b[0m\u001b[0;34m'v'\u001b[0m\u001b[0;34m]\u001b[0m \u001b[0;34m/\u001b[0m \u001b[0;34m(\u001b[0m\u001b[0;36m1\u001b[0m \u001b[0;34m-\u001b[0m \u001b[0mconfig\u001b[0m\u001b[0;34m[\u001b[0m\u001b[0;34m'beta1'\u001b[0m\u001b[0;34m]\u001b[0m\u001b[0;34m**\u001b[0m\u001b[0mconfig\u001b[0m\u001b[0;34m[\u001b[0m\u001b[0;34m't'\u001b[0m\u001b[0;34m]\u001b[0m\u001b[0;34m)\u001b[0m\u001b[0;34m\u001b[0m\u001b[0;34m\u001b[0m\u001b[0m\n\u001b[0m\u001b[1;32m    200\u001b[0m     \u001b[0ma_corrected\u001b[0m \u001b[0;34m=\u001b[0m \u001b[0mconfig\u001b[0m\u001b[0;34m[\u001b[0m\u001b[0;34m'a'\u001b[0m\u001b[0;34m]\u001b[0m \u001b[0;34m/\u001b[0m \u001b[0;34m(\u001b[0m\u001b[0;36m1\u001b[0m \u001b[0;34m-\u001b[0m \u001b[0mconfig\u001b[0m\u001b[0;34m[\u001b[0m\u001b[0;34m'beta2'\u001b[0m\u001b[0;34m]\u001b[0m\u001b[0;34m**\u001b[0m\u001b[0mconfig\u001b[0m\u001b[0;34m[\u001b[0m\u001b[0;34m't'\u001b[0m\u001b[0;34m]\u001b[0m\u001b[0;34m)\u001b[0m\u001b[0;34m\u001b[0m\u001b[0;34m\u001b[0m\u001b[0m\n\u001b[1;32m    201\u001b[0m     \u001b[0mnext_w\u001b[0m \u001b[0;34m=\u001b[0m \u001b[0mw\u001b[0m \u001b[0;34m-\u001b[0m \u001b[0mv_corrected\u001b[0m \u001b[0;34m*\u001b[0m \u001b[0mconfig\u001b[0m\u001b[0;34m[\u001b[0m\u001b[0;34m'learning_rate'\u001b[0m\u001b[0;34m]\u001b[0m \u001b[0;34m/\u001b[0m \u001b[0;34m(\u001b[0m\u001b[0mnp\u001b[0m\u001b[0;34m.\u001b[0m\u001b[0msqrt\u001b[0m\u001b[0;34m(\u001b[0m\u001b[0ma_corrected\u001b[0m\u001b[0;34m)\u001b[0m \u001b[0;34m+\u001b[0m \u001b[0mconfig\u001b[0m\u001b[0;34m[\u001b[0m\u001b[0;34m'epsilon'\u001b[0m\u001b[0;34m]\u001b[0m\u001b[0;34m)\u001b[0m\u001b[0;34m\u001b[0m\u001b[0;34m\u001b[0m\u001b[0m\n",
      "\u001b[0;31mKeyboardInterrupt\u001b[0m: "
     ]
    }
   ],
   "source": [
    "# ================================================================ #\n",
    "# YOUR CODE HERE:\n",
    "#   Implement a CNN to achieve greater than 65% validation accuracy\n",
    "#   on CIFAR-10.\n",
    "# ================================================================ #\n",
    "\n",
    "optimizer = 'adam'\n",
    "best_model = None\n",
    "\n",
    "weight_scale = 0.01\n",
    "learning_rate = 1e-3\n",
    "lr_decay = 0.9\n",
    "\n",
    "model = ThreeLayerConvNet(weight_scale=0.001, hidden_dim=500, reg=0.001)\n",
    "\n",
    "solver = Solver(model, data,\n",
    "                num_epochs=10, batch_size=100,\n",
    "                update_rule=optimizer,\n",
    "                optim_config={\n",
    "                  'learning_rate': learning_rate,\n",
    "                },\n",
    "                lr_decay=lr_decay,\n",
    "                verbose=True, print_every=50)\n",
    "\n",
    "solver.train()\n",
    "\n",
    "# ================================================================ #\n",
    "# END YOUR CODE HERE\n",
    "# ================================================================ #\n"
   ]
  }
 ],
 "metadata": {
  "kernelspec": {
   "display_name": "Python 3",
   "language": "python",
   "name": "python3"
  },
  "language_info": {
   "codemirror_mode": {
    "name": "ipython",
    "version": 3
   },
   "file_extension": ".py",
   "mimetype": "text/x-python",
   "name": "python",
   "nbconvert_exporter": "python",
   "pygments_lexer": "ipython3",
   "version": "3.6.7"
  },
  "varInspector": {
   "cols": {
    "lenName": 16,
    "lenType": 16,
    "lenVar": 40
   },
   "kernels_config": {
    "python": {
     "delete_cmd_postfix": "",
     "delete_cmd_prefix": "del ",
     "library": "var_list.py",
     "varRefreshCmd": "print(var_dic_list())"
    },
    "r": {
     "delete_cmd_postfix": ") ",
     "delete_cmd_prefix": "rm(",
     "library": "var_list.r",
     "varRefreshCmd": "cat(var_dic_list()) "
    }
   },
   "types_to_exclude": [
    "module",
    "function",
    "builtin_function_or_method",
    "instance",
    "_Feature"
   ],
   "window_display": true
  }
 },
 "nbformat": 4,
 "nbformat_minor": 2
}
